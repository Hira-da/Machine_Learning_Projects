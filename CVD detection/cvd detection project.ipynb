{
 "cells": [
  {
   "cell_type": "markdown",
   "id": "586e0fe9-c35a-4d8f-84b2-86fef803f7cc",
   "metadata": {},
   "source": [
    "<h1 style='color:purple' align='center'>Data Science Project: Cardio Vascular Disease Detection</h1>"
   ]
  },
  {
   "cell_type": "code",
   "execution_count": 2,
   "id": "b9cab57b-47b6-48a0-ab13-cf82aec5565e",
   "metadata": {},
   "outputs": [],
   "source": [
    "import pandas as pd\n",
    "import numpy as np\n",
    "from matplotlib import pyplot as plt\n",
    "%matplotlib inline\n",
    "import matplotlib \n",
    "matplotlib.rcParams[\"figure.figsize\"] = (20,10)"
   ]
  },
  {
   "cell_type": "markdown",
   "id": "4c59fd19-592b-4d6e-a484-45a4892a52a8",
   "metadata": {},
   "source": [
    "<h2 style='color:orange'>Data Load: Load CVD data into a dataframe</h2>"
   ]
  },
  {
   "cell_type": "code",
   "execution_count": 3,
   "id": "fac6a92b-4d08-4a02-a870-1a09584d11e1",
   "metadata": {},
   "outputs": [
    {
     "data": {
      "text/html": [
       "<div>\n",
       "<style scoped>\n",
       "    .dataframe tbody tr th:only-of-type {\n",
       "        vertical-align: middle;\n",
       "    }\n",
       "\n",
       "    .dataframe tbody tr th {\n",
       "        vertical-align: top;\n",
       "    }\n",
       "\n",
       "    .dataframe thead th {\n",
       "        text-align: right;\n",
       "    }\n",
       "</style>\n",
       "<table border=\"1\" class=\"dataframe\">\n",
       "  <thead>\n",
       "    <tr style=\"text-align: right;\">\n",
       "      <th></th>\n",
       "      <th>age</th>\n",
       "      <th>sex</th>\n",
       "      <th>cp</th>\n",
       "      <th>trestbps</th>\n",
       "      <th>chol</th>\n",
       "      <th>fbs</th>\n",
       "      <th>restecg</th>\n",
       "      <th>thalach</th>\n",
       "      <th>exang</th>\n",
       "      <th>oldpeak</th>\n",
       "      <th>slope</th>\n",
       "      <th>ca</th>\n",
       "      <th>thal</th>\n",
       "      <th>target</th>\n",
       "    </tr>\n",
       "  </thead>\n",
       "  <tbody>\n",
       "    <tr>\n",
       "      <th>0</th>\n",
       "      <td>63.0</td>\n",
       "      <td>1.0</td>\n",
       "      <td>1.0</td>\n",
       "      <td>145.0</td>\n",
       "      <td>233.0</td>\n",
       "      <td>1.0</td>\n",
       "      <td>2.0</td>\n",
       "      <td>150.0</td>\n",
       "      <td>0.0</td>\n",
       "      <td>2.3</td>\n",
       "      <td>3.0</td>\n",
       "      <td>0.0</td>\n",
       "      <td>6.0</td>\n",
       "      <td>0</td>\n",
       "    </tr>\n",
       "    <tr>\n",
       "      <th>1</th>\n",
       "      <td>67.0</td>\n",
       "      <td>1.0</td>\n",
       "      <td>4.0</td>\n",
       "      <td>160.0</td>\n",
       "      <td>286.0</td>\n",
       "      <td>0.0</td>\n",
       "      <td>2.0</td>\n",
       "      <td>108.0</td>\n",
       "      <td>1.0</td>\n",
       "      <td>NaN</td>\n",
       "      <td>2.0</td>\n",
       "      <td>3.0</td>\n",
       "      <td>3.0</td>\n",
       "      <td>2</td>\n",
       "    </tr>\n",
       "    <tr>\n",
       "      <th>2</th>\n",
       "      <td>67.0</td>\n",
       "      <td>1.0</td>\n",
       "      <td>4.0</td>\n",
       "      <td>120.0</td>\n",
       "      <td>229.0</td>\n",
       "      <td>0.0</td>\n",
       "      <td>2.0</td>\n",
       "      <td>129.0</td>\n",
       "      <td>1.0</td>\n",
       "      <td>2.6</td>\n",
       "      <td>2.0</td>\n",
       "      <td>2.0</td>\n",
       "      <td>7.0</td>\n",
       "      <td>1</td>\n",
       "    </tr>\n",
       "    <tr>\n",
       "      <th>3</th>\n",
       "      <td>37.0</td>\n",
       "      <td>1.0</td>\n",
       "      <td>3.0</td>\n",
       "      <td>130.0</td>\n",
       "      <td>250.0</td>\n",
       "      <td>0.0</td>\n",
       "      <td>NaN</td>\n",
       "      <td>187.0</td>\n",
       "      <td>0.0</td>\n",
       "      <td>3.5</td>\n",
       "      <td>3.0</td>\n",
       "      <td>0.0</td>\n",
       "      <td>3.0</td>\n",
       "      <td>0</td>\n",
       "    </tr>\n",
       "    <tr>\n",
       "      <th>4</th>\n",
       "      <td>41.0</td>\n",
       "      <td>0.0</td>\n",
       "      <td>2.0</td>\n",
       "      <td>130.0</td>\n",
       "      <td>204.0</td>\n",
       "      <td>0.0</td>\n",
       "      <td>2.0</td>\n",
       "      <td>172.0</td>\n",
       "      <td>0.0</td>\n",
       "      <td>1.4</td>\n",
       "      <td>1.0</td>\n",
       "      <td>0.0</td>\n",
       "      <td>3.0</td>\n",
       "      <td>0</td>\n",
       "    </tr>\n",
       "  </tbody>\n",
       "</table>\n",
       "</div>"
      ],
      "text/plain": [
       "    age  sex   cp  trestbps   chol  fbs  restecg  thalach  exang  oldpeak  \\\n",
       "0  63.0  1.0  1.0     145.0  233.0  1.0      2.0    150.0    0.0      2.3   \n",
       "1  67.0  1.0  4.0     160.0  286.0  0.0      2.0    108.0    1.0      NaN   \n",
       "2  67.0  1.0  4.0     120.0  229.0  0.0      2.0    129.0    1.0      2.6   \n",
       "3  37.0  1.0  3.0     130.0  250.0  0.0      NaN    187.0    0.0      3.5   \n",
       "4  41.0  0.0  2.0     130.0  204.0  0.0      2.0    172.0    0.0      1.4   \n",
       "\n",
       "   slope   ca  thal  target  \n",
       "0    3.0  0.0   6.0       0  \n",
       "1    2.0  3.0   3.0       2  \n",
       "2    2.0  2.0   7.0       1  \n",
       "3    3.0  0.0   3.0       0  \n",
       "4    1.0  0.0   3.0       0  "
      ]
     },
     "execution_count": 3,
     "metadata": {},
     "output_type": "execute_result"
    }
   ],
   "source": [
    "df = pd.read_csv('Heart_data.csv')\n",
    "df.head()"
   ]
  },
  {
   "cell_type": "code",
   "execution_count": 4,
   "id": "8f301d21-9af2-4d50-8d04-4aad7a1b860a",
   "metadata": {},
   "outputs": [
    {
     "data": {
      "text/plain": [
       "(1592, 14)"
      ]
     },
     "execution_count": 4,
     "metadata": {},
     "output_type": "execute_result"
    }
   ],
   "source": [
    "df.shape"
   ]
  },
  {
   "cell_type": "code",
   "execution_count": 5,
   "id": "c0b9285b-351c-4360-8584-c338f6013529",
   "metadata": {},
   "outputs": [
    {
     "data": {
      "text/plain": [
       "Index(['age', 'sex', 'cp', 'trestbps', 'chol', 'fbs', 'restecg', 'thalach',\n",
       "       'exang', 'oldpeak', 'slope', 'ca', 'thal', 'target'],\n",
       "      dtype='object')"
      ]
     },
     "execution_count": 5,
     "metadata": {},
     "output_type": "execute_result"
    }
   ],
   "source": [
    "df.columns"
   ]
  },
  {
   "cell_type": "code",
   "execution_count": 6,
   "id": "5c67ed40-e3ab-4741-948d-05a467ef9ca3",
   "metadata": {},
   "outputs": [
    {
     "data": {
      "text/plain": [
       "age         float64\n",
       "sex         float64\n",
       "cp          float64\n",
       "trestbps    float64\n",
       "chol        float64\n",
       "fbs         float64\n",
       "restecg     float64\n",
       "thalach     float64\n",
       "exang       float64\n",
       "oldpeak     float64\n",
       "slope       float64\n",
       "ca          float64\n",
       "thal        float64\n",
       "target        int64\n",
       "dtype: object"
      ]
     },
     "execution_count": 6,
     "metadata": {},
     "output_type": "execute_result"
    }
   ],
   "source": [
    "df.dtypes"
   ]
  },
  {
   "cell_type": "code",
   "execution_count": 7,
   "id": "d97b676e-4eff-4ab0-bf7b-3d8856ff598d",
   "metadata": {},
   "outputs": [
    {
     "data": {
      "text/html": [
       "<div>\n",
       "<style scoped>\n",
       "    .dataframe tbody tr th:only-of-type {\n",
       "        vertical-align: middle;\n",
       "    }\n",
       "\n",
       "    .dataframe tbody tr th {\n",
       "        vertical-align: top;\n",
       "    }\n",
       "\n",
       "    .dataframe thead th {\n",
       "        text-align: right;\n",
       "    }\n",
       "</style>\n",
       "<table border=\"1\" class=\"dataframe\">\n",
       "  <thead>\n",
       "    <tr style=\"text-align: right;\">\n",
       "      <th></th>\n",
       "      <th>age</th>\n",
       "      <th>sex</th>\n",
       "      <th>cp</th>\n",
       "      <th>trestbps</th>\n",
       "      <th>chol</th>\n",
       "      <th>fbs</th>\n",
       "      <th>restecg</th>\n",
       "      <th>thalach</th>\n",
       "      <th>exang</th>\n",
       "      <th>oldpeak</th>\n",
       "      <th>slope</th>\n",
       "      <th>ca</th>\n",
       "      <th>thal</th>\n",
       "      <th>target</th>\n",
       "    </tr>\n",
       "  </thead>\n",
       "  <tbody>\n",
       "    <tr>\n",
       "      <th>count</th>\n",
       "      <td>1513.000000</td>\n",
       "      <td>1561.00000</td>\n",
       "      <td>1433.000000</td>\n",
       "      <td>1592.000000</td>\n",
       "      <td>1529.000000</td>\n",
       "      <td>1513.000000</td>\n",
       "      <td>1585.000000</td>\n",
       "      <td>1592.000000</td>\n",
       "      <td>1545.000000</td>\n",
       "      <td>1561.000000</td>\n",
       "      <td>1538.000000</td>\n",
       "      <td>1592.000000</td>\n",
       "      <td>1585.000000</td>\n",
       "      <td>1592.000000</td>\n",
       "    </tr>\n",
       "    <tr>\n",
       "      <th>mean</th>\n",
       "      <td>54.427627</td>\n",
       "      <td>0.68802</td>\n",
       "      <td>1.731333</td>\n",
       "      <td>131.581658</td>\n",
       "      <td>246.507521</td>\n",
       "      <td>0.147389</td>\n",
       "      <td>0.699685</td>\n",
       "      <td>149.300251</td>\n",
       "      <td>0.333981</td>\n",
       "      <td>1.066496</td>\n",
       "      <td>1.455787</td>\n",
       "      <td>0.725503</td>\n",
       "      <td>3.173502</td>\n",
       "      <td>0.751884</td>\n",
       "    </tr>\n",
       "    <tr>\n",
       "      <th>std</th>\n",
       "      <td>9.076772</td>\n",
       "      <td>0.46345</td>\n",
       "      <td>1.463610</td>\n",
       "      <td>17.610804</td>\n",
       "      <td>51.317002</td>\n",
       "      <td>0.354611</td>\n",
       "      <td>0.764196</td>\n",
       "      <td>23.007862</td>\n",
       "      <td>0.471786</td>\n",
       "      <td>1.171509</td>\n",
       "      <td>0.623490</td>\n",
       "      <td>1.000014</td>\n",
       "      <td>1.698798</td>\n",
       "      <td>0.782024</td>\n",
       "    </tr>\n",
       "    <tr>\n",
       "      <th>min</th>\n",
       "      <td>29.000000</td>\n",
       "      <td>0.00000</td>\n",
       "      <td>0.000000</td>\n",
       "      <td>94.000000</td>\n",
       "      <td>126.000000</td>\n",
       "      <td>0.000000</td>\n",
       "      <td>0.000000</td>\n",
       "      <td>71.000000</td>\n",
       "      <td>0.000000</td>\n",
       "      <td>0.000000</td>\n",
       "      <td>0.000000</td>\n",
       "      <td>0.000000</td>\n",
       "      <td>0.000000</td>\n",
       "      <td>0.000000</td>\n",
       "    </tr>\n",
       "    <tr>\n",
       "      <th>25%</th>\n",
       "      <td>48.000000</td>\n",
       "      <td>0.00000</td>\n",
       "      <td>0.000000</td>\n",
       "      <td>120.000000</td>\n",
       "      <td>211.000000</td>\n",
       "      <td>0.000000</td>\n",
       "      <td>0.000000</td>\n",
       "      <td>132.000000</td>\n",
       "      <td>0.000000</td>\n",
       "      <td>0.000000</td>\n",
       "      <td>1.000000</td>\n",
       "      <td>0.000000</td>\n",
       "      <td>2.000000</td>\n",
       "      <td>0.000000</td>\n",
       "    </tr>\n",
       "    <tr>\n",
       "      <th>50%</th>\n",
       "      <td>56.000000</td>\n",
       "      <td>1.00000</td>\n",
       "      <td>2.000000</td>\n",
       "      <td>130.000000</td>\n",
       "      <td>240.000000</td>\n",
       "      <td>0.000000</td>\n",
       "      <td>1.000000</td>\n",
       "      <td>152.000000</td>\n",
       "      <td>0.000000</td>\n",
       "      <td>0.800000</td>\n",
       "      <td>1.000000</td>\n",
       "      <td>0.000000</td>\n",
       "      <td>3.000000</td>\n",
       "      <td>1.000000</td>\n",
       "    </tr>\n",
       "    <tr>\n",
       "      <th>75%</th>\n",
       "      <td>61.000000</td>\n",
       "      <td>1.00000</td>\n",
       "      <td>3.000000</td>\n",
       "      <td>140.000000</td>\n",
       "      <td>276.000000</td>\n",
       "      <td>0.000000</td>\n",
       "      <td>1.000000</td>\n",
       "      <td>166.000000</td>\n",
       "      <td>1.000000</td>\n",
       "      <td>1.800000</td>\n",
       "      <td>2.000000</td>\n",
       "      <td>1.000000</td>\n",
       "      <td>3.000000</td>\n",
       "      <td>1.000000</td>\n",
       "    </tr>\n",
       "    <tr>\n",
       "      <th>max</th>\n",
       "      <td>77.000000</td>\n",
       "      <td>1.00000</td>\n",
       "      <td>4.000000</td>\n",
       "      <td>200.000000</td>\n",
       "      <td>564.000000</td>\n",
       "      <td>1.000000</td>\n",
       "      <td>2.000000</td>\n",
       "      <td>202.000000</td>\n",
       "      <td>1.000000</td>\n",
       "      <td>6.200000</td>\n",
       "      <td>3.000000</td>\n",
       "      <td>4.000000</td>\n",
       "      <td>7.000000</td>\n",
       "      <td>4.000000</td>\n",
       "    </tr>\n",
       "  </tbody>\n",
       "</table>\n",
       "</div>"
      ],
      "text/plain": [
       "               age         sex           cp     trestbps         chol  \\\n",
       "count  1513.000000  1561.00000  1433.000000  1592.000000  1529.000000   \n",
       "mean     54.427627     0.68802     1.731333   131.581658   246.507521   \n",
       "std       9.076772     0.46345     1.463610    17.610804    51.317002   \n",
       "min      29.000000     0.00000     0.000000    94.000000   126.000000   \n",
       "25%      48.000000     0.00000     0.000000   120.000000   211.000000   \n",
       "50%      56.000000     1.00000     2.000000   130.000000   240.000000   \n",
       "75%      61.000000     1.00000     3.000000   140.000000   276.000000   \n",
       "max      77.000000     1.00000     4.000000   200.000000   564.000000   \n",
       "\n",
       "               fbs      restecg      thalach        exang      oldpeak  \\\n",
       "count  1513.000000  1585.000000  1592.000000  1545.000000  1561.000000   \n",
       "mean      0.147389     0.699685   149.300251     0.333981     1.066496   \n",
       "std       0.354611     0.764196    23.007862     0.471786     1.171509   \n",
       "min       0.000000     0.000000    71.000000     0.000000     0.000000   \n",
       "25%       0.000000     0.000000   132.000000     0.000000     0.000000   \n",
       "50%       0.000000     1.000000   152.000000     0.000000     0.800000   \n",
       "75%       0.000000     1.000000   166.000000     1.000000     1.800000   \n",
       "max       1.000000     2.000000   202.000000     1.000000     6.200000   \n",
       "\n",
       "             slope           ca         thal       target  \n",
       "count  1538.000000  1592.000000  1585.000000  1592.000000  \n",
       "mean      1.455787     0.725503     3.173502     0.751884  \n",
       "std       0.623490     1.000014     1.698798     0.782024  \n",
       "min       0.000000     0.000000     0.000000     0.000000  \n",
       "25%       1.000000     0.000000     2.000000     0.000000  \n",
       "50%       1.000000     0.000000     3.000000     1.000000  \n",
       "75%       2.000000     1.000000     3.000000     1.000000  \n",
       "max       3.000000     4.000000     7.000000     4.000000  "
      ]
     },
     "execution_count": 7,
     "metadata": {},
     "output_type": "execute_result"
    }
   ],
   "source": [
    "df.describe()"
   ]
  },
  {
   "cell_type": "code",
   "execution_count": 8,
   "id": "e5a203de-8641-496b-850e-aed23f6f30e0",
   "metadata": {},
   "outputs": [
    {
     "name": "stdout",
     "output_type": "stream",
     "text": [
      "<class 'pandas.core.frame.DataFrame'>\n",
      "RangeIndex: 1592 entries, 0 to 1591\n",
      "Data columns (total 14 columns):\n",
      " #   Column    Non-Null Count  Dtype  \n",
      "---  ------    --------------  -----  \n",
      " 0   age       1513 non-null   float64\n",
      " 1   sex       1561 non-null   float64\n",
      " 2   cp        1433 non-null   float64\n",
      " 3   trestbps  1592 non-null   float64\n",
      " 4   chol      1529 non-null   float64\n",
      " 5   fbs       1513 non-null   float64\n",
      " 6   restecg   1585 non-null   float64\n",
      " 7   thalach   1592 non-null   float64\n",
      " 8   exang     1545 non-null   float64\n",
      " 9   oldpeak   1561 non-null   float64\n",
      " 10  slope     1538 non-null   float64\n",
      " 11  ca        1592 non-null   float64\n",
      " 12  thal      1585 non-null   float64\n",
      " 13  target    1592 non-null   int64  \n",
      "dtypes: float64(13), int64(1)\n",
      "memory usage: 174.2 KB\n"
     ]
    }
   ],
   "source": [
    "df.info()"
   ]
  },
  {
   "cell_type": "markdown",
   "id": "4bf03235-391e-4a40-8833-18cf3eebf96f",
   "metadata": {},
   "source": [
    "<h2 style='color:green'>Data Cleaning: Handle NA values</h2>"
   ]
  },
  {
   "cell_type": "code",
   "execution_count": 9,
   "id": "5cc5efaf-2d32-46ce-89b0-bfd0b54d6c66",
   "metadata": {},
   "outputs": [
    {
     "data": {
      "text/plain": [
       "age          79\n",
       "sex          31\n",
       "cp          159\n",
       "trestbps      0\n",
       "chol         63\n",
       "fbs          79\n",
       "restecg       7\n",
       "thalach       0\n",
       "exang        47\n",
       "oldpeak      31\n",
       "slope        54\n",
       "ca            0\n",
       "thal          7\n",
       "target        0\n",
       "dtype: int64"
      ]
     },
     "execution_count": 9,
     "metadata": {},
     "output_type": "execute_result"
    }
   ],
   "source": [
    "df.isnull().sum()"
   ]
  },
  {
   "cell_type": "code",
   "execution_count": 10,
   "id": "9a57c220-35f3-44df-8467-843d9f3b83f0",
   "metadata": {},
   "outputs": [
    {
     "data": {
      "text/plain": [
       "age          75\n",
       "sex           0\n",
       "cp          154\n",
       "trestbps      0\n",
       "chol         63\n",
       "fbs          78\n",
       "restecg       7\n",
       "thalach       0\n",
       "exang        45\n",
       "oldpeak      30\n",
       "slope        53\n",
       "ca            0\n",
       "thal          7\n",
       "target        0\n",
       "dtype: int64"
      ]
     },
     "execution_count": 10,
     "metadata": {},
     "output_type": "execute_result"
    }
   ],
   "source": [
    "# Assuming df is your DataFrame and 'column_name' is the column with NaN values\n",
    "df1=df\n",
    "df1.dropna(subset=['sex'], inplace=True)\n",
    "df1.isnull().sum()"
   ]
  },
  {
   "cell_type": "code",
   "execution_count": 11,
   "id": "08e89729-5b16-4386-9608-ae0c18166687",
   "metadata": {},
   "outputs": [
    {
     "data": {
      "text/plain": [
       "age           0\n",
       "sex           0\n",
       "cp          154\n",
       "trestbps      0\n",
       "chol          0\n",
       "fbs          78\n",
       "restecg       7\n",
       "thalach       0\n",
       "exang        45\n",
       "oldpeak       0\n",
       "slope        53\n",
       "ca            0\n",
       "thal          7\n",
       "target        0\n",
       "dtype: int64"
      ]
     },
     "execution_count": 11,
     "metadata": {},
     "output_type": "execute_result"
    }
   ],
   "source": [
    "df1=df\n",
    "df1['age']=df1['age'].fillna(df.age.mean())\n",
    "df1['chol']=df1['chol'].fillna(df.age.mean())\n",
    "df1['oldpeak']=df1['oldpeak'].fillna(df.age.mean())\n",
    "df1.isnull().sum()"
   ]
  },
  {
   "cell_type": "code",
   "execution_count": 12,
   "id": "a9d11bf2-e242-4097-a74b-a4ad5fa22546",
   "metadata": {},
   "outputs": [
    {
     "data": {
      "text/plain": [
       "array([ 1.,  4.,  3.,  2., nan,  0.])"
      ]
     },
     "execution_count": 12,
     "metadata": {},
     "output_type": "execute_result"
    }
   ],
   "source": [
    "df1.cp.unique()"
   ]
  },
  {
   "cell_type": "code",
   "execution_count": 13,
   "id": "9be5ada5-cc2a-4005-aa4b-cc738373a71e",
   "metadata": {},
   "outputs": [
    {
     "name": "stderr",
     "output_type": "stream",
     "text": [
      "C:\\Users\\Sanwal Akram\\AppData\\Local\\Temp\\ipykernel_9344\\2901615614.py:1: FutureWarning: Series.fillna with 'method' is deprecated and will raise in a future version. Use obj.ffill() or obj.bfill() instead.\n",
      "  df1['cp'].fillna(method='ffill', inplace=True)  # Forward fill\n",
      "C:\\Users\\Sanwal Akram\\AppData\\Local\\Temp\\ipykernel_9344\\2901615614.py:2: FutureWarning: Series.fillna with 'method' is deprecated and will raise in a future version. Use obj.ffill() or obj.bfill() instead.\n",
      "  df1['slope'].fillna(method='ffill', inplace=True)\n"
     ]
    },
    {
     "data": {
      "text/plain": [
       "age          0\n",
       "sex          0\n",
       "cp           0\n",
       "trestbps     0\n",
       "chol         0\n",
       "fbs         78\n",
       "restecg      7\n",
       "thalach      0\n",
       "exang       45\n",
       "oldpeak      0\n",
       "slope        0\n",
       "ca           0\n",
       "thal         7\n",
       "target       0\n",
       "dtype: int64"
      ]
     },
     "execution_count": 13,
     "metadata": {},
     "output_type": "execute_result"
    }
   ],
   "source": [
    "df1['cp'].fillna(method='ffill', inplace=True)  # Forward fill\n",
    "df1['slope'].fillna(method='ffill', inplace=True)\n",
    "df1.isnull().sum()"
   ]
  },
  {
   "cell_type": "code",
   "execution_count": 14,
   "id": "2b6ab9ba-4935-4bec-87c8-203e0da69fd6",
   "metadata": {},
   "outputs": [
    {
     "data": {
      "text/plain": [
       "age   sex  cp   trestbps  chol   fbs  restecg  thalach  exang  oldpeak    slope  ca   thal  target\n",
       "38.0  1.0  2.0  138.0     175.0  0.0  1.0      173.0    0.0    0.000000   2.0    4.0  2.0   1         7\n",
       "29.0  1.0  1.0  130.0     204.0  0.0  0.0      202.0    0.0    0.000000   2.0    0.0  2.0   1         4\n",
       "58.0  0.0  1.0  136.0     319.0  1.0  0.0      152.0    0.0    0.000000   2.0    2.0  2.0   0         4\n",
       "      1.0  0.0  146.0     218.0  0.0  1.0      105.0    0.0    2.000000   1.0    1.0  3.0   0         4\n",
       "           1.0  120.0     284.0  0.0  0.0      160.0    0.0    1.800000   1.0    0.0  2.0   0         4\n",
       "                                                                                                     ..\n",
       "54.0  0.0  3.0  110.0     214.0  0.0  0.0      158.0    0.0    1.600000   2.0    0.0  3.0   1         1\n",
       "                135.0     304.0  1.0  0.0      170.0    0.0    0.000000   1.0    0.0  3.0   0         1\n",
       "                                                               54.425976  1.0    0.0  3.0   1         1\n",
       "                160.0     201.0  0.0  0.0      163.0    0.0    0.000000   1.0    1.0  3.0   0         1\n",
       "77.0  1.0  4.0  125.0     304.0  0.0  2.0      162.0    1.0    0.000000   1.0    3.0  3.0   4         1\n",
       "Name: count, Length: 928, dtype: int64"
      ]
     },
     "execution_count": 14,
     "metadata": {},
     "output_type": "execute_result"
    }
   ],
   "source": [
    "df1.value_counts()"
   ]
  },
  {
   "cell_type": "code",
   "execution_count": 15,
   "id": "a19735de-179e-46da-b0c7-3485126b1024",
   "metadata": {},
   "outputs": [
    {
     "data": {
      "text/plain": [
       "age         0\n",
       "sex         0\n",
       "cp          0\n",
       "trestbps    0\n",
       "chol        0\n",
       "fbs         0\n",
       "restecg     7\n",
       "thalach     0\n",
       "exang       0\n",
       "oldpeak     0\n",
       "slope       0\n",
       "ca          0\n",
       "thal        7\n",
       "target      0\n",
       "dtype: int64"
      ]
     },
     "execution_count": 15,
     "metadata": {},
     "output_type": "execute_result"
    }
   ],
   "source": [
    "df1['fbs']=df1['fbs'].fillna(df.age.median())\n",
    "df1['exang']=df1['exang'].fillna(df.age.median())\n",
    "df1.isnull().sum()"
   ]
  },
  {
   "cell_type": "code",
   "execution_count": 16,
   "id": "9380a37d-5fc1-4deb-a6dd-ce3d2d459c86",
   "metadata": {},
   "outputs": [
    {
     "data": {
      "text/plain": [
       "age         0\n",
       "sex         0\n",
       "cp          0\n",
       "trestbps    0\n",
       "chol        0\n",
       "fbs         0\n",
       "restecg     0\n",
       "thalach     0\n",
       "exang       0\n",
       "oldpeak     0\n",
       "slope       0\n",
       "ca          0\n",
       "thal        0\n",
       "target      0\n",
       "dtype: int64"
      ]
     },
     "execution_count": 16,
     "metadata": {},
     "output_type": "execute_result"
    }
   ],
   "source": [
    "df2=df1.dropna()\n",
    "df2.isnull().sum()"
   ]
  },
  {
   "cell_type": "code",
   "execution_count": 17,
   "id": "fd1eb5c5-ef03-4c7e-98bd-139b8434a8f4",
   "metadata": {},
   "outputs": [
    {
     "data": {
      "text/plain": [
       "array([0, 2, 1, 3, 4], dtype=int64)"
      ]
     },
     "execution_count": 17,
     "metadata": {},
     "output_type": "execute_result"
    }
   ],
   "source": [
    "df2.target.unique()"
   ]
  },
  {
   "cell_type": "code",
   "execution_count": 18,
   "id": "6176bca7-76e6-4455-b934-c7deb4627799",
   "metadata": {},
   "outputs": [
    {
     "data": {
      "text/plain": [
       "target\n",
       "1    714\n",
       "0    647\n",
       "2    152\n",
       "3     35\n",
       "4     13\n",
       "Name: count, dtype: int64"
      ]
     },
     "execution_count": 18,
     "metadata": {},
     "output_type": "execute_result"
    }
   ],
   "source": [
    "df['target'].value_counts()"
   ]
  },
  {
   "cell_type": "code",
   "execution_count": 19,
   "id": "043eddaa-96e4-4d89-9778-4aea36c5c0a8",
   "metadata": {},
   "outputs": [
    {
     "data": {
      "text/plain": [
       "<Axes: xlabel='target'>"
      ]
     },
     "execution_count": 19,
     "metadata": {},
     "output_type": "execute_result"
    },
    {
     "data": {
      "image/png": "[encoded data removed]",
      "text/plain": [
       "<Figure size 2000x1000 with 1 Axes>"
      ]
     },
     "metadata": {},
     "output_type": "display_data"
    }
   ],
   "source": [
    "df['target'].value_counts().plot.bar()"
   ]
  },
  {
   "cell_type": "code",
   "execution_count": 20,
   "id": "743ff7a9-adf5-4dc1-b29e-78c7b6940204",
   "metadata": {
    "scrolled": true
   },
   "outputs": [
    {
     "name": "stderr",
     "output_type": "stream",
     "text": [
      "C:\\Users\\Sanwal Akram\\AppData\\Local\\Temp\\ipykernel_9344\\1474290130.py:9: SettingWithCopyWarning: \n",
      "A value is trying to be set on a copy of a slice from a DataFrame.\n",
      "Try using .loc[row_indexer,col_indexer] = value instead\n",
      "\n",
      "See the caveats in the documentation: https://pandas.pydata.org/pandas-docs/stable/user_guide/indexing.html#returning-a-view-versus-a-copy\n",
      "  df3['target'] = df3['target'].replace([2, 3, 4], 1)\n"
     ]
    },
    {
     "data": {
      "text/plain": [
       "(1547, 14)"
      ]
     },
     "execution_count": 20,
     "metadata": {},
     "output_type": "execute_result"
    }
   ],
   "source": [
    "#option 1 :Delete the rows with valies other than 0 and 1\n",
    "\n",
    "#values_to_exclude = [2,3,4] \n",
    "df3=df2\n",
    "#df3 = df3[~df3['target'].isin(values_to_exclude)]\n",
    "\n",
    "#option3: Replace the values(2,3,4) with 1 \n",
    "\n",
    "df3['target'] = df3['target'].replace([2, 3, 4], 1)\n",
    "df3.shape\n",
    "#df3.target.unique()"
   ]
  },
  {
   "cell_type": "markdown",
   "id": "66f39df9-1532-4c0e-8f55-a234e238cc9d",
   "metadata": {},
   "source": [
    "<h2 style='color:red'>Build a Model Now...</h2>"
   ]
  },
  {
   "cell_type": "code",
   "execution_count": 21,
   "id": "a9511fed-a70a-4502-9e24-f97b886538a1",
   "metadata": {},
   "outputs": [],
   "source": [
    "# Step 1: Extract features and labels\n",
    "X = df2.drop(columns=['target'], axis=1)\n",
    "y = df2['target']"
   ]
  },
  {
   "cell_type": "code",
   "execution_count": 22,
   "id": "1c29b15d-53ff-47e9-88cc-9ffcdadf6c57",
   "metadata": {},
   "outputs": [],
   "source": [
    "from sklearn.model_selection import train_test_split\n",
    "# Step 2: Split the data into training and testing sets\n",
    "X_train, X_test, y_train, y_test = train_test_split(X, y, test_size=0.2, random_state=42)"
   ]
  },
  {
   "cell_type": "code",
   "execution_count": 23,
   "id": "6bb9c162-85ed-4ab3-a4e3-abb3ea6330f5",
   "metadata": {},
   "outputs": [],
   "source": [
    "from sklearn.preprocessing import StandardScaler\n",
    "# Step 3: Standardize the features \n",
    "scaler = StandardScaler()\n",
    "X_train = scaler.fit_transform(X_train)\n",
    "X_test = scaler.transform(X_test)"
   ]
  },
  {
   "cell_type": "code",
   "execution_count": 24,
   "id": "041309bb-31c1-4bfc-a775-725672a77ff4",
   "metadata": {},
   "outputs": [],
   "source": [
    "from sklearn.ensemble import RandomForestClassifier\n",
    "# Step 4: Define RandomForestClassifier\n",
    "rfc = RandomForestClassifier(random_state=42)"
   ]
  },
  {
   "cell_type": "code",
   "execution_count": 25,
   "id": "158d314b-5629-4596-ad96-0b76867ec4ce",
   "metadata": {},
   "outputs": [],
   "source": [
    "# Step 5: Train and evaluate the RandomForestClassifier\n",
    "rfc.fit(X_train, y_train)\n",
    "y_pred_rfc = rfc.predict(X_test)"
   ]
  },
  {
   "cell_type": "code",
   "execution_count": 26,
   "id": "0e970808-3b83-45b9-b788-d9d024414a93",
   "metadata": {},
   "outputs": [
    {
     "name": "stdout",
     "output_type": "stream",
     "text": [
      "Model: RandomForestClassifier\n",
      "Model Accuracy: 0.8516129032258064\n",
      "Confusion Matrix:\n",
      "[[ 88  29]\n",
      " [ 17 176]]\n",
      "Classification Report:\n",
      "              precision    recall  f1-score   support\n",
      "\n",
      "           0       0.84      0.75      0.79       117\n",
      "           1       0.86      0.91      0.88       193\n",
      "\n",
      "    accuracy                           0.85       310\n",
      "   macro avg       0.85      0.83      0.84       310\n",
      "weighted avg       0.85      0.85      0.85       310\n",
      "\n"
     ]
    }
   ],
   "source": [
    "from sklearn.metrics import accuracy_score, classification_report, confusion_matrix\n",
    "# Evaluate the RandomForestClassifier\n",
    "accuracy_rfc = accuracy_score(y_test, y_pred_rfc)\n",
    "conf_matrix_rfc = confusion_matrix(y_test, y_pred_rfc)\n",
    "classification_rep_rfc = classification_report(y_test, y_pred_rfc)\n",
    "\n",
    "# Display results for RandomForestClassifier\n",
    "print(f'Model: {type(rfc).__name__}')\n",
    "print(f'Model Accuracy: {accuracy_rfc}')\n",
    "print(f'Confusion Matrix:\\n{conf_matrix_rfc}')\n",
    "print(f'Classification Report:\\n{classification_rep_rfc}')"
   ]
  },
  {
   "cell_type": "markdown",
   "id": "e610609e-f916-4c5e-bcf5-9331ae6863e3",
   "metadata": {},
   "source": [
    "<h2 style='color:brown'>Use K Fold cross validation to measure accuracy of our  model</h2>"
   ]
  },
  {
   "cell_type": "code",
   "execution_count": 27,
   "id": "bded9e15-4d52-485c-a78a-d02a6779d8a7",
   "metadata": {},
   "outputs": [
    {
     "name": "stdout",
     "output_type": "stream",
     "text": [
      "Cross-Validation Scores: [0.58064516 0.89677419 0.96440129 0.85113269 0.6828479 ]\n",
      "Average Accuracy: 0.7951602463722727\n"
     ]
    }
   ],
   "source": [
    "from sklearn.model_selection import cross_val_score\n",
    "\n",
    "# Perform 5-fold cross-validation\n",
    "cv_scores = cross_val_score(rfc, X, y, cv=5, scoring='accuracy')\n",
    "\n",
    "# Display the cross-validation scores\n",
    "print(\"Cross-Validation Scores:\", cv_scores)\n",
    "\n",
    "# Calculate and display the average accuracy\n",
    "average_accuracy = np.mean(cv_scores)\n",
    "print(\"Average Accuracy:\", average_accuracy)\n"
   ]
  },
  {
   "cell_type": "markdown",
   "id": "503dbe2b-db57-4ad5-9804-964d93cbc7a6",
   "metadata": {},
   "source": [
    "<h2 style='color:pink'>Find best model using GridSearchCV</h2>"
   ]
  },
  {
   "cell_type": "code",
   "execution_count": 28,
   "id": "d48ace13-fa5a-49db-9ec3-29f257938761",
   "metadata": {},
   "outputs": [
    {
     "data": {
      "text/html": [
       "<div>\n",
       "<style scoped>\n",
       "    .dataframe tbody tr th:only-of-type {\n",
       "        vertical-align: middle;\n",
       "    }\n",
       "\n",
       "    .dataframe tbody tr th {\n",
       "        vertical-align: top;\n",
       "    }\n",
       "\n",
       "    .dataframe thead th {\n",
       "        text-align: right;\n",
       "    }\n",
       "</style>\n",
       "<table border=\"1\" class=\"dataframe\">\n",
       "  <thead>\n",
       "    <tr style=\"text-align: right;\">\n",
       "      <th></th>\n",
       "      <th>model</th>\n",
       "      <th>best_score</th>\n",
       "      <th>best_params</th>\n",
       "    </tr>\n",
       "  </thead>\n",
       "  <tbody>\n",
       "    <tr>\n",
       "      <th>0</th>\n",
       "      <td>random_forest</td>\n",
       "      <td>0.836774</td>\n",
       "      <td>{'max_depth': None, 'min_samples_split': 5, 'n...</td>\n",
       "    </tr>\n",
       "    <tr>\n",
       "      <th>1</th>\n",
       "      <td>k_neighbors</td>\n",
       "      <td>0.732258</td>\n",
       "      <td>{'n_neighbors': 5, 'weights': 'distance'}</td>\n",
       "    </tr>\n",
       "  </tbody>\n",
       "</table>\n",
       "</div>"
      ],
      "text/plain": [
       "           model  best_score  \\\n",
       "0  random_forest    0.836774   \n",
       "1    k_neighbors    0.732258   \n",
       "\n",
       "                                         best_params  \n",
       "0  {'max_depth': None, 'min_samples_split': 5, 'n...  \n",
       "1          {'n_neighbors': 5, 'weights': 'distance'}  "
      ]
     },
     "execution_count": 28,
     "metadata": {},
     "output_type": "execute_result"
    }
   ],
   "source": [
    "from sklearn.model_selection import GridSearchCV, ShuffleSplit\n",
    "from sklearn.ensemble import RandomForestClassifier\n",
    "from sklearn.linear_model import LogisticRegression\n",
    "from sklearn.svm import SVC\n",
    "from sklearn.neighbors import KNeighborsClassifier\n",
    "\n",
    "\n",
    "def find_best_model_using_gridsearchcv(X, y):\n",
    "    algos = {\n",
    "        \n",
    "        'random_forest': {\n",
    "            'model': RandomForestClassifier(),\n",
    "            'params': {\n",
    "                'n_estimators': [50, 100, 150],\n",
    "                'max_depth': [None, 10, 20],\n",
    "                'min_samples_split': [2, 5, 10],\n",
    "            }\n",
    "        },\n",
    "       \n",
    "        'k_neighbors': {\n",
    "            'model': KNeighborsClassifier(),\n",
    "            'params': {\n",
    "                'n_neighbors': [3, 5, 7],\n",
    "                'weights': ['uniform', 'distance']\n",
    "            }\n",
    "        }\n",
    "    }\n",
    "\n",
    "    scores = []\n",
    "    cv = ShuffleSplit(n_splits=5, test_size=0.2, random_state=0)\n",
    "    \n",
    "    for algo_name, config in algos.items():\n",
    "        gs = GridSearchCV(config['model'], config['params'], cv=cv, scoring='accuracy', return_train_score=False)\n",
    "        gs.fit(X, y)\n",
    "        scores.append({\n",
    "            'model': algo_name,\n",
    "            'best_score': gs.best_score_,\n",
    "            'best_params': gs.best_params_\n",
    "        })\n",
    "\n",
    "    return pd.DataFrame(scores, columns=['model', 'best_score', 'best_params'])\n",
    "\n",
    "find_best_model_using_gridsearchcv(X, y)\n"
   ]
  },
  {
   "cell_type": "markdown",
   "id": "97b84bbf-30cc-4477-b793-92c1043e7a48",
   "metadata": {},
   "source": [
    "<h2 style='color:blue'>Export the tested model to a pickle file</h2>"
   ]
  },
  {
   "cell_type": "code",
   "execution_count": 30,
   "id": "6d3e4983-a4f7-4dd4-b74f-86da8120a89f",
   "metadata": {},
   "outputs": [],
   "source": [
    "import pickle\n",
    "with open('banglore_home_prices_model.pickle','wb') as f:\n",
    "    pickle.dump(rfc,f)"
   ]
  },
  {
   "cell_type": "code",
   "execution_count": null,
   "id": "92abfd52-465b-4efa-a5ff-88c167e1e5d6",
   "metadata": {},
   "outputs": [],
   "source": []
  }
 ],
 "metadata": {
  "kernelspec": {
   "display_name": "Python 3 (ipykernel)",
   "language": "python",
   "name": "python3"
  },
  "language_info": {
   "codemirror_mode": {
    "name": "ipython",
    "version": 3
   },
   "file_extension": ".py",
   "mimetype": "text/x-python",
   "name": "python",
   "nbconvert_exporter": "python",
   "pygments_lexer": "ipython3",
   "version": "3.10.13"
  }
 },
 "nbformat": 4,
 "nbformat_minor": 5
}
